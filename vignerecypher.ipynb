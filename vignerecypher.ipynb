{
 "cells": [
  {
   "cell_type": "code",
   "execution_count": 67,
   "metadata": {},
   "outputs": [],
   "source": [
    "chars = \"\".join(chr(x) for x in range(32,127))\n",
    "\n",
    "l2i = dict(zip(chars, range(len(chars)))) # converting letter to index\n",
    "i2l = dict(zip(range(len(chars)), chars)) # converting index to letter"
   ]
  },
  {
   "cell_type": "code",
   "execution_count": 72,
   "metadata": {},
   "outputs": [],
   "source": [
    "def ext_vigenere(text, key, option):\n",
    "    result = \"\"\n",
    "    if(option=='encrypt'):\n",
    "        # splitting the text according to length of key\n",
    "        splitted_text = [\n",
    "            text[i : i + len(key)] for i in range(0, len(text), len(key)) \n",
    "        ]\n",
    "        # encrypting each of the letter for each splitted text \n",
    "        for msg in splitted_text:\n",
    "            i = 0\n",
    "            for ch in msg:\n",
    "               num = (l2i[ch]+l2i[key[i]]) % len(chars) # encrypt: the result index is the index of letter in text + index of letter in key, modulus in case exceed max number of the characters available\"\n",
    "               result += i2l[num] # append the encrypted letter into results\n",
    "               i += 1\n",
    "                \n",
    "    elif(option=='decrypt'):\n",
    "        result = \"\"\n",
    "        # splitting the text according to length of key\n",
    "        splitted_text = [\n",
    "            text[i : i + len(key)] for i in range(0, len(text), len(key))\n",
    "        ]\n",
    "        # decrypting each of the letter for each splitted text \n",
    "        for msg in splitted_text:\n",
    "            i = 0\n",
    "            for ch in msg:\n",
    "                num = (l2i[ch]-l2i[key[i]]) % len(chars) # decrypt: the result index is the index of letter in text - index of letter in key, modulus in case exceed max number of the characters available\"\n",
    "                result += i2l[num] # append the decrypted letter into results\n",
    "                i += 1\n",
    "    else: # condition for any invalid option \n",
    "        return \"Invalid option!\"\n",
    "    return result"
   ]
  },
  {
   "cell_type": "code",
   "execution_count": 74,
   "metadata": {},
   "outputs": [
    {
     "name": "stdout",
     "output_type": "stream",
     "text": [
      "yrwmswun\n",
      "GoodLuck\n",
      "Invalid option!\n"
     ]
    }
   ],
   "source": [
    "print(ext_vigenere(\"VIGENERE\",\"CIPHER\",\"encrypt\"))\n",
    "print(ext_vigenere(\"<UcY6dK`\",\"testing\",\"decrypt\"))\n",
    "print(ext_vigenere(\"<UcY6dK`\",\"testing\",\"endecrypt\"))\n"
   ]
  }
 ],
 "metadata": {
  "interpreter": {
   "hash": "65518f30a3ecf463641bbff51568eed8800a8b6475836389ae912c7fedafd608"
  },
  "kernelspec": {
   "display_name": "Python 3.9.7 64-bit",
   "name": "python3"
  },
  "language_info": {
   "codemirror_mode": {
    "name": "ipython",
    "version": 3
   },
   "file_extension": ".py",
   "mimetype": "text/x-python",
   "name": "python",
   "nbconvert_exporter": "python",
   "pygments_lexer": "ipython3",
   "version": "3.9.7"
  },
  "orig_nbformat": 4
 },
 "nbformat": 4,
 "nbformat_minor": 2
}
